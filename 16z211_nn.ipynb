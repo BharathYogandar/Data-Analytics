{
  "nbformat": 4,
  "nbformat_minor": 0,
  "metadata": {
    "colab": {
      "name": "16z211_nn.ipynb",
      "version": "0.3.2",
      "provenance": []
    },
    "kernelspec": {
      "name": "python3",
      "display_name": "Python 3"
    }
  },
  "cells": [
    {
      "cell_type": "code",
      "metadata": {
        "id": "IeSl5F3bg_8u",
        "colab_type": "code",
        "colab": {
          "base_uri": "https://localhost:8080/",
          "height": 34
        },
        "outputId": "45150c09-71ef-469a-8d05-0180d79f9c2b"
      },
      "source": [
        "from keras.models import Sequential\n",
        "from keras.layers import Dense\n",
        "import numpy as np"
      ],
      "execution_count": 1,
      "outputs": [
        {
          "output_type": "stream",
          "text": [
            "Using TensorFlow backend.\n"
          ],
          "name": "stderr"
        }
      ]
    },
    {
      "cell_type": "code",
      "metadata": {
        "id": "wEjBonfFh0VV",
        "colab_type": "code",
        "colab": {}
      },
      "source": [
        "from sklearn.datasets import load_iris\n",
        "from sklearn.preprocessing import StandardScaler,OneHotEncoder\n",
        "from sklearn.model_selection import train_test_split"
      ],
      "execution_count": 0,
      "outputs": []
    },
    {
      "cell_type": "code",
      "metadata": {
        "id": "HfRoSLz1iGEa",
        "colab_type": "code",
        "colab": {}
      },
      "source": [
        "model=Sequential()"
      ],
      "execution_count": 0,
      "outputs": []
    },
    {
      "cell_type": "code",
      "metadata": {
        "id": "b4ti-LAZiP5x",
        "colab_type": "code",
        "colab": {}
      },
      "source": [
        "h1 = model.add(Dense(2,activation=\"sigmoid\",input_dim=3))\n",
        "h2=model.add(Dense(3,activation=\"sigmoid\"))\n",
        "o = model.add(Dense(2,activation=\"linear\"))"
      ],
      "execution_count": 0,
      "outputs": []
    },
    {
      "cell_type": "code",
      "metadata": {
        "id": "QPB6HcjVjLsW",
        "colab_type": "code",
        "colab": {}
      },
      "source": [
        "w1=np.array([[0.2,-0.3],[0.4,0.1],[-0.5,0.2]])\n",
        "b1=np.array([0.4,0.2])\n",
        "w2=np.array([[-0.3,0.2,0.6],[-0.2,-0.1,-0.2]])\n",
        "b2=np.array([0.1,0.1,0.2])\n",
        "w3=np.array([[0.3,0.2],[-0.5,0.5],[0.7,0.2]])\n",
        "b3=np.array([-0.1,-0.2])"
      ],
      "execution_count": 0,
      "outputs": []
    },
    {
      "cell_type": "code",
      "metadata": {
        "id": "bkvVntVFmPU0",
        "colab_type": "code",
        "colab": {}
      },
      "source": [
        "model.set_weights([w1,b1,w2,b2,w3,b3])"
      ],
      "execution_count": 0,
      "outputs": []
    },
    {
      "cell_type": "code",
      "metadata": {
        "id": "LxMDgEeZmb4-",
        "colab_type": "code",
        "colab": {}
      },
      "source": [
        "input=np.array([[1,0,1]])\n",
        "target=np.array([[1,0]])"
      ],
      "execution_count": 0,
      "outputs": []
    },
    {
      "cell_type": "code",
      "metadata": {
        "id": "xju5AiCXnYey",
        "colab_type": "code",
        "colab": {}
      },
      "source": [
        "import keras\n",
        "ad=keras.optimizers.Adam(lr=0.9)\n",
        "model.compile(loss=\"mean_squared_error\",optimizer=ad,metrics=['accuracy'])"
      ],
      "execution_count": 0,
      "outputs": []
    },
    {
      "cell_type": "code",
      "metadata": {
        "id": "lSi44fefo6os",
        "colab_type": "code",
        "colab": {
          "base_uri": "https://localhost:8080/",
          "height": 238
        },
        "outputId": "65550cbd-4598-46c8-ae2a-305497ed0dfd"
      },
      "source": [
        "model.summary()"
      ],
      "execution_count": 37,
      "outputs": [
        {
          "output_type": "stream",
          "text": [
            "_________________________________________________________________\n",
            "Layer (type)                 Output Shape              Param #   \n",
            "=================================================================\n",
            "dense_4 (Dense)              (None, 2)                 8         \n",
            "_________________________________________________________________\n",
            "dense_5 (Dense)              (None, 3)                 9         \n",
            "_________________________________________________________________\n",
            "dense_6 (Dense)              (None, 2)                 8         \n",
            "=================================================================\n",
            "Total params: 25\n",
            "Trainable params: 25\n",
            "Non-trainable params: 0\n",
            "_________________________________________________________________\n"
          ],
          "name": "stdout"
        }
      ]
    },
    {
      "cell_type": "code",
      "metadata": {
        "id": "eH3df7C7pFaX",
        "colab_type": "code",
        "colab": {
          "base_uri": "https://localhost:8080/",
          "height": 374
        },
        "outputId": "c7a1bec7-6d4e-484c-a0ad-f2def7184c3b"
      },
      "source": [
        "model.fit(input,target,epochs=10)"
      ],
      "execution_count": 45,
      "outputs": [
        {
          "output_type": "stream",
          "text": [
            "Epoch 1/10\n",
            "1/1 [==============================] - 0s 287ms/step - loss: 0.3679 - acc: 0.0000e+00\n",
            "Epoch 2/10\n",
            "1/1 [==============================] - 0s 3ms/step - loss: 2.6488 - acc: 1.0000\n",
            "Epoch 3/10\n",
            "1/1 [==============================] - 0s 2ms/step - loss: 0.1166 - acc: 1.0000\n",
            "Epoch 4/10\n",
            "1/1 [==============================] - 0s 3ms/step - loss: 0.3983 - acc: 0.0000e+00\n",
            "Epoch 5/10\n",
            "1/1 [==============================] - 0s 4ms/step - loss: 0.9408 - acc: 0.0000e+00\n",
            "Epoch 6/10\n",
            "1/1 [==============================] - 0s 4ms/step - loss: 0.6997 - acc: 0.0000e+00\n",
            "Epoch 7/10\n",
            "1/1 [==============================] - 0s 1ms/step - loss: 0.2574 - acc: 1.0000\n",
            "Epoch 8/10\n",
            "1/1 [==============================] - 0s 1ms/step - loss: 0.0504 - acc: 1.0000\n",
            "Epoch 9/10\n",
            "1/1 [==============================] - 0s 1ms/step - loss: 0.0592 - acc: 1.0000\n",
            "Epoch 10/10\n",
            "1/1 [==============================] - 0s 1ms/step - loss: 0.1803 - acc: 1.0000\n"
          ],
          "name": "stdout"
        },
        {
          "output_type": "execute_result",
          "data": {
            "text/plain": [
              "<keras.callbacks.History at 0x7fbf6e274c18>"
            ]
          },
          "metadata": {
            "tags": []
          },
          "execution_count": 45
        }
      ]
    },
    {
      "cell_type": "code",
      "metadata": {
        "id": "9bFWcfeVqsiN",
        "colab_type": "code",
        "colab": {
          "base_uri": "https://localhost:8080/",
          "height": 204
        },
        "outputId": "726f5da8-b615-48b3-fccf-064596195207"
      },
      "source": [
        "model.get_weights()"
      ],
      "execution_count": 41,
      "outputs": [
        {
          "output_type": "execute_result",
          "data": {
            "text/plain": [
              "[array([[ 0.31567332, -0.37823993],\n",
              "        [ 0.4       ,  0.1       ],\n",
              "        [-0.38432673,  0.12176009]], dtype=float32),\n",
              " array([0.5156733 , 0.12176009], dtype=float32),\n",
              " array([[-0.1869601 ,  0.10499081,  0.7054899 ],\n",
              "        [-0.09232774, -0.18975715, -0.09995496]], dtype=float32),\n",
              " array([0.21014838, 0.00782003, 0.3025566 ], dtype=float32),\n",
              " array([[ 0.40160075,  0.11455312],\n",
              "        [-0.4021685 ,  0.41780692],\n",
              "        [ 0.8014475 ,  0.11467624]], dtype=float32),\n",
              " array([-0.00055412, -0.2835826 ], dtype=float32)]"
            ]
          },
          "metadata": {
            "tags": []
          },
          "execution_count": 41
        }
      ]
    }
  ]
}