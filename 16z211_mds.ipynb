{
  "nbformat": 4,
  "nbformat_minor": 0,
  "metadata": {
    "colab": {
      "name": "16z211_mds.ipynb",
      "version": "0.3.2",
      "provenance": [],
      "collapsed_sections": []
    },
    "kernelspec": {
      "name": "python3",
      "display_name": "Python 3"
    }
  },
  "cells": [
    {
      "cell_type": "code",
      "metadata": {
        "id": "pi61uNAUUxHd",
        "colab_type": "code",
        "colab": {}
      },
      "source": [
        "x=[1,2,2,3]\n",
        "y=[1,1,2,2]"
      ],
      "execution_count": 0,
      "outputs": []
    },
    {
      "cell_type": "code",
      "metadata": {
        "id": "GxF5WkihVBIE",
        "colab_type": "code",
        "outputId": "83b7a46e-d5a5-4436-ab9e-e99d8e3de80e",
        "colab": {
          "base_uri": "https://localhost:8080/",
          "height": 295
        }
      },
      "source": [
        "import numpy as np\n",
        "import matplotlib.pyplot as plt\n",
        "area = np.pi*3\n",
        "\n",
        "# Plot\n",
        "plt.scatter(x, y, s=area, color='r', alpha=0.5)\n",
        "plt.title('Scatter plot')\n",
        "plt.xlabel('x')\n",
        "plt.ylabel('y')\n",
        "plt.show()"
      ],
      "execution_count": 0,
      "outputs": [
        {
          "output_type": "display_data",
          "data": {
            "image/png": "[encoded data removed]",
            "text/plain": [
              "<Figure size 432x288 with 1 Axes>"
            ]
          },
          "metadata": {
            "tags": []
          }
        }
      ]
    },
    {
      "cell_type": "code",
      "metadata": {
        "id": "1-QztrscVnxb",
        "colab_type": "code",
        "outputId": "75e77c20-eff4-4de2-b1e5-b53f63db1f90",
        "colab": {
          "base_uri": "https://localhost:8080/",
          "height": 34
        }
      },
      "source": [
        "import statistics\n",
        "xm=statistics.mean(x)\n",
        "ym=statistics.mean(y)\n",
        "print(xm,ym)"
      ],
      "execution_count": 0,
      "outputs": [
        {
          "output_type": "stream",
          "text": [
            "2 1.5\n"
          ],
          "name": "stdout"
        }
      ]
    },
    {
      "cell_type": "code",
      "metadata": {
        "id": "UaV1IDRxWCDG",
        "colab_type": "code",
        "outputId": "c47dabbf-dbed-4684-c28a-7d3f43d9935f",
        "colab": {
          "base_uri": "https://localhost:8080/",
          "height": 34
        }
      },
      "source": [
        "ax = np.array(x)\n",
        "ay=np.array(y)\n",
        "ax=ax-xm\n",
        "ay=ay-ym\n",
        "print(ax,ay)"
      ],
      "execution_count": 0,
      "outputs": [
        {
          "output_type": "stream",
          "text": [
            "[-1  0  0  1] [-0.5 -0.5  0.5  0.5]\n"
          ],
          "name": "stdout"
        }
      ]
    },
    {
      "cell_type": "code",
      "metadata": {
        "id": "M_WAiiUIVzb5",
        "colab_type": "code",
        "outputId": "db5a3b59-6152-4085-b0cb-4ff6f5e1374e",
        "colab": {
          "base_uri": "https://localhost:8080/",
          "height": 295
        }
      },
      "source": [
        "plt.scatter(ax, ay, s=area, color='r', alpha=0.5)\n",
        "plt.title('Scatter plot')\n",
        "plt.xlabel('x')\n",
        "plt.ylabel('y')\n",
        "plt.show()"
      ],
      "execution_count": 0,
      "outputs": [
        {
          "output_type": "display_data",
          "data": {
            "image/png": "[encoded data removed]",
            "text/plain": [
              "<Figure size 432x288 with 1 Axes>"
            ]
          },
          "metadata": {
            "tags": []
          }
        }
      ]
    },
    {
      "cell_type": "code",
      "metadata": {
        "id": "ONw2EbrpX4bk",
        "colab_type": "code",
        "outputId": "b2cecb72-0091-4a96-88be-39debee4ffef",
        "colab": {
          "base_uri": "https://localhost:8080/",
          "height": 187
        }
      },
      "source": [
        "matr=np.array([[-1,-0.5],[0,-0.5],[0,0.5],[1,0.5]])\n",
        "t = np.transpose(matr)\n",
        "res=np.dot(matr,t)\n",
        "print(matr)\n",
        "print(t)\n",
        "print(res)"
      ],
      "execution_count": 0,
      "outputs": [
        {
          "output_type": "stream",
          "text": [
            "[[-1.  -0.5]\n",
            " [ 0.  -0.5]\n",
            " [ 0.   0.5]\n",
            " [ 1.   0.5]]\n",
            "[[-1.   0.   0.   1. ]\n",
            " [-0.5 -0.5  0.5  0.5]]\n",
            "[[ 1.25  0.25 -0.25 -1.25]\n",
            " [ 0.25  0.25 -0.25 -0.25]\n",
            " [-0.25 -0.25  0.25  0.25]\n",
            " [-1.25 -0.25  0.25  1.25]]\n"
          ],
          "name": "stdout"
        }
      ]
    },
    {
      "cell_type": "code",
      "metadata": {
        "id": "L_qQy0D_YX6F",
        "colab_type": "code",
        "outputId": "b43f3249-29fa-4706-999c-a9d1a2bbb251",
        "colab": {
          "base_uri": "https://localhost:8080/",
          "height": 119
        }
      },
      "source": [
        "import scipy.linalg as la\n",
        "eigvals, eigvecs = la.eig(res)\n",
        "print(eigvals)\n",
        "print(eigvecs)"
      ],
      "execution_count": 0,
      "outputs": [
        {
          "output_type": "stream",
          "text": [
            "[ 2.61803399e+00+0.j  3.81966011e-01+0.j -9.45799730e-17+0.j\n",
            " -2.55373581e-17+0.j]\n",
            "[[-0.68819096  0.16245985  0.67618941  0.02708022]\n",
            " [-0.16245985 -0.68819096  0.20680399  0.70658804]\n",
            " [ 0.16245985  0.68819096  0.20680399  0.70658804]\n",
            " [ 0.68819096 -0.16245985  0.67618941  0.02708022]]\n"
          ],
          "name": "stdout"
        }
      ]
    },
    {
      "cell_type": "code",
      "metadata": {
        "id": "_DUDebR8a1pU",
        "colab_type": "code",
        "outputId": "07a7a774-33f5-4ad0-ced1-accd96d2dfe6",
        "colab": {
          "base_uri": "https://localhost:8080/",
          "height": 34
        }
      },
      "source": [
        "largest=eigvecs[:,0]\n",
        "sq=np.sqrt(eigvals[0])\n",
        "largest=largest*sq\n",
        "print(largest)"
      ],
      "execution_count": 0,
      "outputs": [
        {
          "output_type": "stream",
          "text": [
            "[-1.11351636+0.j -0.26286556+0.j  0.26286556+0.j  1.11351636+0.j]\n"
          ],
          "name": "stdout"
        }
      ]
    },
    {
      "cell_type": "code",
      "metadata": {
        "id": "MsptKV-_b9eB",
        "colab_type": "code",
        "outputId": "d6d90fb6-235a-4ac0-a075-38134b9fea3b",
        "colab": {
          "base_uri": "https://localhost:8080/",
          "height": 85
        }
      },
      "source": [
        "from sklearn.metrics.pairwise import euclidean_distances\n",
        "X = [[1, 1], [2, 1],[2,2],[3,2]]\n",
        "euclidean_distances(X, X)"
      ],
      "execution_count": 0,
      "outputs": [
        {
          "output_type": "execute_result",
          "data": {
            "text/plain": [
              "array([[0.        , 1.        , 1.41421356, 2.23606798],\n",
              "       [1.        , 0.        , 1.        , 1.41421356],\n",
              "       [1.41421356, 1.        , 0.        , 1.        ],\n",
              "       [2.23606798, 1.41421356, 1.        , 0.        ]])"
            ]
          },
          "metadata": {
            "tags": []
          },
          "execution_count": 36
        }
      ]
    },
    {
      "cell_type": "code",
      "metadata": {
        "id": "DxFGZ4r2b79w",
        "colab_type": "code",
        "colab": {}
      },
      "source": [
        ""
      ],
      "execution_count": 0,
      "outputs": []
    }
  ]
}